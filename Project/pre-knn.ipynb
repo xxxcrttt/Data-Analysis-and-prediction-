{
 "cells": [
  {
   "cell_type": "code",
   "execution_count": 9,
   "id": "6e6fe103-8bb8-4f64-820f-efb9a93425a6",
   "metadata": {},
   "outputs": [],
   "source": [
    "# IMPORT LIBRARY \n",
    "\n",
    "from __future__ import print_function, division\n",
    "%matplotlib inline\n",
    "import matplotlib.pyplot as plt\n",
    "import pandas as pd\n",
    "import numpy as np\n",
    "import warnings\n",
    "import matplotlib.patches as mpatches\n",
    "import seaborn as sns\n",
    "\n",
    "from sklearn.model_selection import train_test_split\n",
    "\n",
    "# 随机森林, GBR, KNN, LR, Decision Tree, GNB\n",
    "from sklearn.ensemble import RandomForestClassifier\n",
    "from sklearn.ensemble import GradientBoostingRegressor\n",
    "from sklearn.utils import check_random_state\n",
    "from sklearn.metrics import classification_report, confusion_matrix, roc_curve, auc\n",
    "from sklearn.neighbors import KNeighborsClassifier\n",
    "from sklearn.metrics import accuracy_score\n",
    "from sklearn.linear_model import LogisticRegression\n",
    "from sklearn.tree import DecisionTreeRegressor\n",
    "from sklearn.naive_bayes import GaussianNB\n",
    "warnings.filterwarnings('ignore')\n",
    "rs = check_random_state(4421)"
   ]
  },
  {
   "cell_type": "code",
   "execution_count": 10,
   "id": "87ac9578-3523-43d6-a34f-48f2fdcf906c",
   "metadata": {},
   "outputs": [],
   "source": [
    "data = pd.read_csv('games.csv')"
   ]
  },
  {
   "cell_type": "code",
   "execution_count": 11,
   "id": "61a9af27-8472-465e-b5da-007f288f99ae",
   "metadata": {},
   "outputs": [],
   "source": [
    "data=data[[\"winner\",\"firstBlood\",\"firstTower\",\"firstInhibitor\",\"firstBaron\",\"firstDragon\",\"firstRiftHerald\",\"t1_towerKills\",\"t1_inhibitorKills\",'t1_baronKills',\n",
    "       't1_dragonKills','t1_riftHeraldKills','t2_towerKills','t2_inhibitorKills', 't2_baronKills', 't2_dragonKills','t2_riftHeraldKills'\n",
    "       ]]"
   ]
  },
  {
   "cell_type": "code",
   "execution_count": 12,
   "id": "8d99e05d-1ff9-4056-b11a-fececd49643d",
   "metadata": {},
   "outputs": [],
   "source": [
    "y = data[\"winner\"].values\n",
    "x = data.drop([\"winner\"],axis=1)\n",
    "from sklearn.model_selection import train_test_split\n",
    "X_train, X_test, y_train, y_test = train_test_split(x,y,test_size = 0.2,random_state=1)"
   ]
  },
  {
   "cell_type": "code",
   "execution_count": 13,
   "id": "9339fdad-ac93-44df-83cb-6f0a8360513f",
   "metadata": {},
   "outputs": [
    {
     "name": "stdout",
     "output_type": "stream",
     "text": [
      "precision:  0.96950864\n",
      "n_neighbors:13\n"
     ]
    }
   ],
   "source": [
    "score = 0\n",
    "precision = []\n",
    "\n",
    "for k in range(1, 50):\n",
    "    knn = KNeighborsClassifier(n_neighbors=k)\n",
    "    knn.fit(X_train, y_train)\n",
    "    prediction = knn.predict(X_test)\n",
    "    accuracy_test = accuracy_score(y_test,prediction.round())\n",
    "    if (score < accuracy_test):\n",
    "        y_pred = prediction\n",
    "        score = knn.score(X_test, y_test)\n",
    "        pos = k\n",
    "    precision.insert(k, knn.score(X_test, y_test))\n",
    "    \n",
    "print(\"precision: {0: .8f}\".format(score))\n",
    "print(\"n_neighbors:\"+format(pos))"
   ]
  },
  {
   "cell_type": "code",
   "execution_count": 15,
   "id": "2aa304b8-cae0-474b-aa9b-496d68be95ad",
   "metadata": {},
   "outputs": [
    {
     "name": "stdout",
     "output_type": "stream",
     "text": [
      "winner is : [1]\n",
      "first team win probability is %  [61.224489795918366] \n",
      "second team win probability is %: [38.775510204081634]\n"
     ]
    }
   ],
   "source": [
    "x2=[[0,0,0,0,0,0,0,0,0,0,0,0,0,0,0,0]]\n",
    "c=knn.predict_proba(x2).reshape(-1,1)\n",
    "print(\"winner is :\" , knn.predict(x2) )\n",
    "print(\"first team win probability is % \", list(c[0]*100),\n",
    "      \"\\nsecond team win probability is %:\",list(c[1]*100)  )\n"
   ]
  },
  {
   "cell_type": "code",
   "execution_count": 16,
   "id": "5631c814-02e3-4810-9157-215475b0b99d",
   "metadata": {},
   "outputs": [
    {
     "name": "stdout",
     "output_type": "stream",
     "text": [
      "winner is : [2]\n",
      "first team win probability is %  [20.408163265306122] \n",
      "second team win probability is %: [79.59183673469387]\n"
     ]
    }
   ],
   "source": [
    "x2=[[1,1,2,1,1,2,5,2,1,1,1,7,2,1,1,1]]\n",
    "c=knn.predict_proba(x2).reshape(-1,1)\n",
    "print(\"winner is :\" , knn.predict(x2) )\n",
    "print(\"first team win probability is % \", list(c[0]*100),\n",
    "      \"\\nsecond team win probability is %:\",list(c[1]*100)  )"
   ]
  },
  {
   "cell_type": "code",
   "execution_count": null,
   "id": "3d465d5b-a458-4f96-b133-8e79db096662",
   "metadata": {},
   "outputs": [],
   "source": []
  }
 ],
 "metadata": {
  "kernelspec": {
   "display_name": "Python 3",
   "language": "python",
   "name": "python3"
  },
  "language_info": {
   "codemirror_mode": {
    "name": "ipython",
    "version": 3
   },
   "file_extension": ".py",
   "mimetype": "text/x-python",
   "name": "python",
   "nbconvert_exporter": "python",
   "pygments_lexer": "ipython3",
   "version": "3.8.8"
  }
 },
 "nbformat": 4,
 "nbformat_minor": 5
}
