{
 "cells": [
  {
   "cell_type": "code",
   "execution_count": 8,
   "metadata": {},
   "outputs": [],
   "source": [
    "# IMPORT LIBRARY \n",
    "\n",
    "from __future__ import print_function, division\n",
    "%matplotlib inline\n",
    "import matplotlib.pyplot as plt\n",
    "import pandas as pd\n",
    "import numpy as np\n",
    "import warnings\n",
    "import matplotlib.patches as mpatches\n",
    "import seaborn as sns\n",
    "\n",
    "from sklearn.model_selection import train_test_split\n",
    "\n",
    "# 随机森林, GBR, KNN, LR, Decision Tree, GNB\n",
    "from sklearn.ensemble import RandomForestClassifier\n",
    "from sklearn.ensemble import GradientBoostingRegressor\n",
    "from sklearn.utils import check_random_state\n",
    "from sklearn.metrics import classification_report, confusion_matrix, roc_curve, auc\n",
    "from sklearn.neighbors import KNeighborsClassifier\n",
    "from sklearn.metrics import accuracy_score\n",
    "from sklearn.linear_model import LogisticRegression\n",
    "from sklearn.tree import DecisionTreeRegressor\n",
    "from sklearn.naive_bayes import GaussianNB\n",
    "warnings.filterwarnings('ignore')\n",
    "rs = check_random_state(4421)"
   ]
  },
  {
   "cell_type": "code",
   "execution_count": 9,
   "metadata": {},
   "outputs": [],
   "source": [
    "data = pd.read_csv('games.csv')\n",
    "\n",
    "data.drop([\"t1_champ1id\",\"t1_champ2id\",\n",
    "                      \"t1_champ3id\",\"t1_champ4id\",\"t1_champ5id\",\"t2_champ1id\",\n",
    "                      \"t2_champ2id\",\"t2_champ3id\",\"t2_champ4id\",\"t2_champ5id\",\"t1_ban1\",\"t1_ban2\",\"t1_ban3\",\n",
    "                      \"t1_ban4\",\"t1_ban5\",\"t2_ban1\",\"t2_ban2\",\"t2_ban3\",\"t2_ban4\",\"t2_ban5\",\"seasonId\"],axis = 1,inplace = True)\n",
    "\n",
    "data = data[data['gameDuration']>=300]\n",
    "\n",
    "data=data[[\"winner\",\"firstBlood\",\"firstTower\",\"firstInhibitor\",\"firstBaron\",\"firstDragon\",\"firstRiftHerald\",\"t1_towerKills\",\"t1_inhibitorKills\",'t1_baronKills',\n",
    "       't1_dragonKills','t1_riftHeraldKills','t2_towerKills','t2_inhibitorKills', 't2_baronKills', 't2_dragonKills','t2_riftHeraldKills'\n",
    "       ]]"
   ]
  },
  {
   "cell_type": "code",
   "execution_count": 10,
   "metadata": {},
   "outputs": [],
   "source": [
    "fpr = dict()\n",
    "tpr = dict()\n",
    "roc_auc = dict()"
   ]
  },
  {
   "cell_type": "code",
   "execution_count": 11,
   "metadata": {},
   "outputs": [],
   "source": [
    "X = data.drop(['winner'], axis=1)\n",
    "Y = data['winner'].values\n",
    "\n",
    "X_train, X_test, y_train, y_test = train_test_split(X, Y, test_size=0.20, random_state=rs)"
   ]
  },
  {
   "cell_type": "code",
   "execution_count": 12,
   "metadata": {},
   "outputs": [
    {
     "data": {
      "text/plain": [
       "LogisticRegression(C=1.0, class_weight=None, dual=False, fit_intercept=True,\n",
       "                   intercept_scaling=1, l1_ratio=None, max_iter=100,\n",
       "                   multi_class='auto', n_jobs=None, penalty='l2',\n",
       "                   random_state=None, solver='lbfgs', tol=0.0001, verbose=0,\n",
       "                   warm_start=False)"
      ]
     },
     "execution_count": 12,
     "metadata": {},
     "output_type": "execute_result"
    }
   ],
   "source": [
    "#logistic regression\n",
    "from sklearn.linear_model import LogisticRegression\n",
    "lr = LogisticRegression()\n",
    "lr.fit(X_train, y_train)\n"
   ]
  },
  {
   "cell_type": "code",
   "execution_count": 13,
   "metadata": {},
   "outputs": [
    {
     "name": "stdout",
     "output_type": "stream",
     "text": [
      "Accuracy= 0.9720648175762998\n"
     ]
    }
   ],
   "source": [
    "y_pred = lr.predict(X_test)\n",
    "accuracy_test = accuracy_score(y_test, y_pred.round())\n",
    "print(\"Accuracy=\", accuracy_test)\n"
   ]
  },
  {
   "cell_type": "code",
   "execution_count": 14,
   "metadata": {},
   "outputs": [],
   "source": [
    "fpr[1], tpr[1], _ = roc_curve(y_test, y_pred,pos_label=2)\n",
    "roc_auc[1] = auc(fpr[1], tpr[1])"
   ]
  },
  {
   "cell_type": "code",
   "execution_count": 15,
   "metadata": {},
   "outputs": [
    {
     "name": "stdout",
     "output_type": "stream",
     "text": [
      "precision:  0.97743314\n",
      "n_neighbors:30\n"
     ]
    }
   ],
   "source": [
    "#KNN\n",
    "score = 0\n",
    "precision = []\n",
    "\n",
    "for k in range(1, 50):\n",
    "    knn = KNeighborsClassifier(n_neighbors=k)\n",
    "    knn.fit(X_train, y_train)\n",
    "    prediction = knn.predict(X_test)\n",
    "    accuracy_test = accuracy_score(y_test,prediction.round())\n",
    "    if (score < accuracy_test):\n",
    "        y_pred = prediction\n",
    "        score = knn.score(X_test, y_test)\n",
    "        pos = k\n",
    "    precision.insert(k, knn.score(X_test, y_test))\n",
    "    \n",
    "print(\"precision: {0: .8f}\".format(score))\n",
    "print(\"n_neighbors:\"+format(pos))"
   ]
  },
  {
   "cell_type": "code",
   "execution_count": 16,
   "metadata": {},
   "outputs": [],
   "source": [
    "fpr[2], tpr[2], _ = roc_curve(y_test, y_pred,pos_label=2)\n",
    "roc_auc[2] = auc(fpr[2], tpr[2])"
   ]
  },
  {
   "cell_type": "code",
   "execution_count": 17,
   "metadata": {},
   "outputs": [
    {
     "data": {
      "text/plain": [
       "SVC(C=1, break_ties=False, cache_size=200, class_weight=None, coef0=0.0,\n",
       "    decision_function_shape='ovr', degree=3, gamma='scale', kernel='linear',\n",
       "    max_iter=-1, probability=True, random_state=None, shrinking=True, tol=0.001,\n",
       "    verbose=False)"
      ]
     },
     "execution_count": 17,
     "metadata": {},
     "output_type": "execute_result"
    }
   ],
   "source": [
    "# SVM-linear \n",
    "from sklearn.svm import SVC \n",
    "\n",
    "rbf = SVC(C=1,kernel='linear',probability=True)\n",
    "rbf.fit(X_train, y_train)"
   ]
  },
  {
   "cell_type": "code",
   "execution_count": 18,
   "metadata": {},
   "outputs": [
    {
     "name": "stdout",
     "output_type": "stream",
     "text": [
      "Accuracy= 0.9716671637339696\n"
     ]
    }
   ],
   "source": [
    "y_pred = rbf.predict(X_test)\n",
    "accuracy_test = accuracy_score(y_test, y_pred.round())\n",
    "print(\"Accuracy=\", accuracy_test)"
   ]
  },
  {
   "cell_type": "code",
   "execution_count": 19,
   "metadata": {},
   "outputs": [],
   "source": [
    "fpr[3], tpr[3], _ = roc_curve(y_test, y_pred,pos_label=2)\n",
    "roc_auc[3] = auc(fpr[3], tpr[3])"
   ]
  },
  {
   "cell_type": "code",
   "execution_count": 20,
   "metadata": {},
   "outputs": [
    {
     "data": {
      "text/plain": [
       "SVC(C=1.0, break_ties=False, cache_size=200, class_weight=None, coef0=0.0,\n",
       "    decision_function_shape='ovr', degree=3, gamma=0.1, kernel='rbf',\n",
       "    max_iter=-1, probability=True, random_state=None, shrinking=True, tol=0.001,\n",
       "    verbose=False)"
      ]
     },
     "execution_count": 20,
     "metadata": {},
     "output_type": "execute_result"
    }
   ],
   "source": [
    "# SVM - rbf\n",
    "from sklearn.svm import SVC \n",
    "\n",
    "rbf = SVC(gamma=0.1,kernel='rbf',probability=True)\n",
    "rbf.fit(X_train, y_train)"
   ]
  },
  {
   "cell_type": "code",
   "execution_count": 21,
   "metadata": {},
   "outputs": [
    {
     "name": "stdout",
     "output_type": "stream",
     "text": [
      "Accuracy= 0.9801173078834874\n"
     ]
    }
   ],
   "source": [
    "y_pred = rbf.predict(X_test)\n",
    "accuracy_test = accuracy_score(y_test, y_pred.round())\n",
    "print(\"Accuracy=\", accuracy_test)"
   ]
  },
  {
   "cell_type": "code",
   "execution_count": 22,
   "metadata": {},
   "outputs": [],
   "source": [
    "fpr[4], tpr[4], _ = roc_curve(y_test, y_pred,pos_label=2)\n",
    "roc_auc[4] = auc(fpr[4], tpr[4])"
   ]
  },
  {
   "cell_type": "code",
   "execution_count": 23,
   "metadata": {},
   "outputs": [
    {
     "name": "stdout",
     "output_type": "stream",
     "text": [
      "Precision:  0.9777313848\n",
      "min_samples_split: 26\n",
      "min_samples_leaf: 7\n"
     ]
    }
   ],
   "source": [
    "# Decision Tree\n",
    "range1 = range(2, 30)\n",
    "range2 = range(1, 8)\n",
    "score = 0\n",
    "precision = []\n",
    "\n",
    "for es1 in range1:\n",
    "    for es2 in range2:\n",
    "        dtree = DecisionTreeRegressor(random_state=rs, \n",
    "                                      min_samples_split= es1, \n",
    "                                      min_samples_leaf = es2)\n",
    "        dtree.fit(X_train, y_train)\n",
    "        prediction = dtree.predict(X_test)\n",
    "        accuracy_test = accuracy_score(y_test, prediction.round())\n",
    "        if(score < accuracy_test):\n",
    "            y_pred = prediction\n",
    "            score = accuracy_test\n",
    "            best1 = es1\n",
    "            best2 = es2\n",
    "        precision.insert(es1, accuracy_test)\n",
    "\n",
    "print(\"Precision: {0: .10f}\".format(score))\n",
    "print(\"min_samples_split: \" +format(best1))\n",
    "print(\"min_samples_leaf: \" +format(best2))"
   ]
  },
  {
   "cell_type": "code",
   "execution_count": 24,
   "metadata": {},
   "outputs": [],
   "source": [
    "fpr[5], tpr[5], _ = roc_curve(y_test, y_pred,pos_label=2)\n",
    "roc_auc[5] = auc(fpr[5], tpr[5])"
   ]
  },
  {
   "cell_type": "code",
   "execution_count": 25,
   "metadata": {},
   "outputs": [
    {
     "name": "stdout",
     "output_type": "stream",
     "text": [
      "precision:  0.980713789\n",
      "n_estimators:36\n"
     ]
    }
   ],
   "source": [
    "# Random Forest\n",
    "score = 0\n",
    "precision = []\n",
    "\n",
    "for n in range(1,50):\n",
    "    rnf = RandomForestClassifier(n_estimators=n, random_state=rs)\n",
    "    rnf.fit(X_train, y_train)\n",
    "    prediction = rnf.predict(X_test)\n",
    "    accuracy_test = accuracy_score(y_test, prediction.round())\n",
    "    if (score<accuracy_test):\n",
    "        y_pred = prediction\n",
    "        score = accuracy_test\n",
    "        pos = n\n",
    "    precision.insert(n, accuracy_test)\n",
    "\n",
    "print(\"precision: {0: .9f}\".format(score))\n",
    "print(\"n_estimators:\"+format(pos))"
   ]
  },
  {
   "cell_type": "code",
   "execution_count": 26,
   "metadata": {},
   "outputs": [],
   "source": [
    "fpr[6], tpr[6], _ = roc_curve(y_test, y_pred,pos_label=2)\n",
    "roc_auc[6] = auc(fpr[6], tpr[6])"
   ]
  },
  {
   "cell_type": "code",
   "execution_count": 34,
   "metadata": {},
   "outputs": [
    {
     "name": "stdout",
     "output_type": "stream",
     "text": [
      "Accuracy= 0.9508897504722139\n"
     ]
    }
   ],
   "source": [
    "# Naive Bayes \n",
    "nb = GaussianNB()\n",
    "nb.fit(X_train,y_train)\n",
    "prediction = nb.predict(X_test)\n",
    "accuracy_test = accuracy_score(y_test,prediction.round())\n",
    "print( \"Accuracy=\", accuracy_test)"
   ]
  },
  {
   "cell_type": "code",
   "execution_count": 35,
   "metadata": {},
   "outputs": [],
   "source": [
    "fpr[7], tpr[7], _ = roc_curve(y_test, y_pred,pos_label=2)\n",
    "roc_auc[7] = auc(fpr[7], tpr[7])"
   ]
  },
  {
   "cell_type": "code",
   "execution_count": 36,
   "metadata": {},
   "outputs": [
    {
     "data": {
      "image/png": "[encoded data removed]",
      "text/plain": [
       "<Figure size 720x432 with 1 Axes>"
      ]
     },
     "metadata": {
      "needs_background": "light"
     },
     "output_type": "display_data"
    }
   ],
   "source": [
    "plt.figure(figsize=(10,6))\n",
    "lw = 2\n",
    "\n",
    "plt.plot(fpr[1], tpr[1], color='darkorange',lw=lw, label='Logistic Regression (area = %0.4f)' % roc_auc[1])\n",
    "plt.plot(fpr[2], tpr[2], color='blue', lw=lw, label='KNN (area = %0.4f)' % roc_auc[2])\n",
    "plt.plot(fpr[3], tpr[3], color='indianred', lw=lw, label='SVM linear (area = %0.4f)' % roc_auc[3])\n",
    "plt.plot(fpr[4], tpr[4], color='gold', lw=lw, label='SVM rbf (area = %0.4f)' % roc_auc[4])\n",
    "plt.plot(fpr[5], tpr[5], color='lawngreen', lw=lw, label='Decision Tree (area = %0.4f)' % roc_auc[5])\n",
    "plt.plot(fpr[6], tpr[6], color='deeppink', lw=lw, label='Random Forest (area = %0.4f)' % roc_auc[6])\n",
    "plt.plot(fpr[7], tpr[7], color='peru', lw=lw, label='Naive Bayes (area = %0.4f)' % roc_auc[7])\n",
    "\n",
    "\n",
    "\n",
    "plt.plot([0, 1], [0, 1], color='navy', lw=lw, linestyle='--')\n",
    "plt.xlim([0.0, 1.0])\n",
    "plt.ylim([0.0, 1.05])\n",
    "plt.xlabel('False Positive Rate')\n",
    "plt.ylabel('True Positive Rate')\n",
    "plt.title('Receiver operating Charactersitics')\n",
    "plt.legend(loc=\"lower right\")\n",
    "plt.savefig('ROC')"
   ]
  },
  {
   "cell_type": "code",
   "execution_count": null,
   "metadata": {},
   "outputs": [],
   "source": []
  }
 ],
 "metadata": {
  "kernelspec": {
   "display_name": "Python 3",
   "language": "python",
   "name": "python3"
  },
  "language_info": {
   "codemirror_mode": {
    "name": "ipython",
    "version": 3
   },
   "file_extension": ".py",
   "mimetype": "text/x-python",
   "name": "python",
   "nbconvert_exporter": "python",
   "pygments_lexer": "ipython3",
   "version": "3.8.8"
  }
 },
 "nbformat": 4,
 "nbformat_minor": 4
}
