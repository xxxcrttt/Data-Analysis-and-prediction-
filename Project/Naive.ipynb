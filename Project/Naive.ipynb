{
 "cells": [
  {
   "cell_type": "code",
   "execution_count": 1,
   "metadata": {},
   "outputs": [],
   "source": [
    "# IMPORT LIBRARY \n",
    "\n",
    "from __future__ import print_function, division\n",
    "%matplotlib inline\n",
    "import matplotlib.pyplot as plt\n",
    "import pandas as pd\n",
    "import numpy as np\n",
    "import warnings\n",
    "import matplotlib.patches as mpatches\n",
    "import seaborn as sns\n",
    "\n",
    "from sklearn.model_selection import train_test_split\n",
    "\n",
    "# 随机森林, GBR, KNN, LR, Decision Tree, GNB\n",
    "from sklearn.ensemble import RandomForestClassifier\n",
    "from sklearn.ensemble import GradientBoostingRegressor\n",
    "from sklearn.utils import check_random_state\n",
    "from sklearn.metrics import classification_report, confusion_matrix, roc_curve, auc\n",
    "from sklearn.neighbors import KNeighborsClassifier\n",
    "from sklearn.metrics import accuracy_score\n",
    "from sklearn.linear_model import LogisticRegression\n",
    "from sklearn.tree import DecisionTreeRegressor\n",
    "from sklearn.naive_bayes import GaussianNB\n",
    "warnings.filterwarnings('ignore')\n",
    "rs = check_random_state(4421)"
   ]
  },
  {
   "cell_type": "code",
   "execution_count": 2,
   "metadata": {},
   "outputs": [],
   "source": [
    "data = pd.read_csv('games.csv')"
   ]
  },
  {
   "cell_type": "code",
   "execution_count": 3,
   "metadata": {},
   "outputs": [],
   "source": [
    "data = pd.read_csv('games.csv')\n",
    "\n",
    "data.drop([\"t1_champ1id\",\"t1_champ2id\",\n",
    "                      \"t1_champ3id\",\"t1_champ4id\",\"t1_champ5id\",\"t2_champ1id\",\n",
    "                      \"t2_champ2id\",\"t2_champ3id\",\"t2_champ4id\",\"t2_champ5id\",\"t1_ban1\",\"t1_ban2\",\"t1_ban3\",\n",
    "                      \"t1_ban4\",\"t1_ban5\",\"t2_ban1\",\"t2_ban2\",\"t2_ban3\",\"t2_ban4\",\"t2_ban5\",\"seasonId\"],axis = 1,inplace = True)\n",
    "\n"
   ]
  },
  {
   "cell_type": "code",
   "execution_count": 4,
   "metadata": {},
   "outputs": [
    {
     "name": "stdout",
     "output_type": "stream",
     "text": [
      "<class 'pandas.core.frame.DataFrame'>\n",
      "RangeIndex: 51490 entries, 0 to 51489\n",
      "Data columns (total 40 columns):\n",
      " #   Column              Non-Null Count  Dtype\n",
      "---  ------              --------------  -----\n",
      " 0   gameId              51490 non-null  int64\n",
      " 1   creationTime        51490 non-null  int64\n",
      " 2   gameDuration        51490 non-null  int64\n",
      " 3   winner              51490 non-null  int64\n",
      " 4   firstBlood          51490 non-null  int64\n",
      " 5   firstTower          51490 non-null  int64\n",
      " 6   firstInhibitor      51490 non-null  int64\n",
      " 7   firstBaron          51490 non-null  int64\n",
      " 8   firstDragon         51490 non-null  int64\n",
      " 9   firstRiftHerald     51490 non-null  int64\n",
      " 10  t1_champ1_sum1      51490 non-null  int64\n",
      " 11  t1_champ1_sum2      51490 non-null  int64\n",
      " 12  t1_champ2_sum1      51490 non-null  int64\n",
      " 13  t1_champ2_sum2      51490 non-null  int64\n",
      " 14  t1_champ3_sum1      51490 non-null  int64\n",
      " 15  t1_champ3_sum2      51490 non-null  int64\n",
      " 16  t1_champ4_sum1      51490 non-null  int64\n",
      " 17  t1_champ4_sum2      51490 non-null  int64\n",
      " 18  t1_champ5_sum1      51490 non-null  int64\n",
      " 19  t1_champ5_sum2      51490 non-null  int64\n",
      " 20  t1_towerKills       51490 non-null  int64\n",
      " 21  t1_inhibitorKills   51490 non-null  int64\n",
      " 22  t1_baronKills       51490 non-null  int64\n",
      " 23  t1_dragonKills      51490 non-null  int64\n",
      " 24  t1_riftHeraldKills  51490 non-null  int64\n",
      " 25  t2_champ1_sum1      51490 non-null  int64\n",
      " 26  t2_champ1_sum2      51490 non-null  int64\n",
      " 27  t2_champ2_sum1      51490 non-null  int64\n",
      " 28  t2_champ2_sum2      51490 non-null  int64\n",
      " 29  t2_champ3_sum1      51490 non-null  int64\n",
      " 30  t2_champ3_sum2      51490 non-null  int64\n",
      " 31  t2_champ4_sum1      51490 non-null  int64\n",
      " 32  t2_champ4_sum2      51490 non-null  int64\n",
      " 33  t2_champ5_sum1      51490 non-null  int64\n",
      " 34  t2_champ5_sum2      51490 non-null  int64\n",
      " 35  t2_towerKills       51490 non-null  int64\n",
      " 36  t2_inhibitorKills   51490 non-null  int64\n",
      " 37  t2_baronKills       51490 non-null  int64\n",
      " 38  t2_dragonKills      51490 non-null  int64\n",
      " 39  t2_riftHeraldKills  51490 non-null  int64\n",
      "dtypes: int64(40)\n",
      "memory usage: 15.7 MB\n"
     ]
    }
   ],
   "source": [
    "data.info()"
   ]
  },
  {
   "cell_type": "code",
   "execution_count": 16,
   "metadata": {},
   "outputs": [],
   "source": [
    "data = data[data['gameDuration']>=300]\n",
    "data=data[[\"winner\",\"firstBlood\",\"firstTower\",\"firstInhibitor\",\"firstBaron\",\"firstDragon\",\"firstRiftHerald\",\"t1_towerKills\",\"t1_inhibitorKills\",'t1_baronKills',\n",
    "       't1_dragonKills','t1_riftHeraldKills','t2_towerKills','t2_inhibitorKills', 't2_baronKills', 't2_dragonKills','t2_riftHeraldKills'\n",
    "       ]]"
   ]
  },
  {
   "cell_type": "code",
   "execution_count": 17,
   "metadata": {},
   "outputs": [],
   "source": [
    "X = data.drop(['winner'], axis=1)\n",
    "Y = data['winner'].values\n",
    "\n",
    "X_train, X_test, y_train, y_test = train_test_split(X, Y, test_size=0.20, random_state=rs)"
   ]
  },
  {
   "cell_type": "code",
   "execution_count": 18,
   "metadata": {},
   "outputs": [
    {
     "name": "stdout",
     "output_type": "stream",
     "text": [
      "Accuracy = 0.9498956158663883\n"
     ]
    }
   ],
   "source": [
    "# Naive Bayes\n",
    "nb = GaussianNB()\n",
    "nb.fit(X_train,y_train)\n",
    "prediction = nb.predict(X_test)\n",
    "accuracy_test = accuracy_score(y_test,prediction.round())\n",
    "print( \"Accuracy =\", accuracy_test )"
   ]
  },
  {
   "cell_type": "code",
   "execution_count": 20,
   "metadata": {},
   "outputs": [
    {
     "data": {
      "image/png": "[encoded data removed]",
      "text/plain": [
       "<Figure size 432x288 with 1 Axes>"
      ]
     },
     "metadata": {
      "needs_background": "light"
     },
     "output_type": "display_data"
    }
   ],
   "source": [
    "y_pred = nb.predict(X_test)\n",
    "\n",
    "confusion = confusion_matrix(y_test, y_pred)\n",
    "plt.clf()\n",
    "plt.imshow(confusion, interpolation='nearest', cmap=plt.cm.Oranges)\n",
    "classNames = ['Negative', 'Positive']\n",
    "plt.title('Naive Bayes confusion matrix')\n",
    "plt.ylabel('True Value')\n",
    "plt.xlabel('Predict Value')\n",
    "\n",
    "tick_marks = np.arange(len(classNames))\n",
    "plt.xticks(tick_marks, classNames, rotation=45)\n",
    "plt.yticks(tick_marks, classNames)\n",
    "s = [['TN', 'FP'], ['FN','TP']]\n",
    "s = [['TN', 'FP'], ['FN','TP']]\n",
    "for i in range(2):\n",
    "    for j in range(2):\n",
    "        plt.text(j,i,str(s[i][j])+\" = \"+str(confusion[i][j]), \n",
    "                 horizontalalignment='center', verticalalignment='center')\n",
    "\n",
    "\n",
    "#plt.savefig(\"NB_con\",dpi=240, bbox_inches='tight')"
   ]
  },
  {
   "cell_type": "code",
   "execution_count": 21,
   "metadata": {},
   "outputs": [
    {
     "name": "stdout",
     "output_type": "stream",
     "text": [
      "              precision    recall  f1-score   support\n",
      "\n",
      "           1    0.95133   0.94984   0.95059      5104\n",
      "           2    0.94842   0.94995   0.94918      4955\n",
      "\n",
      "    accuracy                        0.94990     10059\n",
      "   macro avg    0.94988   0.94990   0.94989     10059\n",
      "weighted avg    0.94990   0.94990   0.94990     10059\n",
      "\n"
     ]
    }
   ],
   "source": [
    "from sklearn.metrics import classification_report\n",
    "print(classification_report(y_test, y_pred, digits=5))"
   ]
  },
  {
   "cell_type": "code",
   "execution_count": 22,
   "metadata": {},
   "outputs": [
    {
     "data": {
      "image/png": "[encoded data removed]",
      "text/plain": [
       "<Figure size 432x288 with 1 Axes>"
      ]
     },
     "metadata": {
      "needs_background": "light"
     },
     "output_type": "display_data"
    }
   ],
   "source": [
    "from sklearn.metrics import roc_curve, auc\n",
    "\n",
    "fpr, tpr, thersholds = roc_curve(y_test, y_pred, pos_label=2)\n",
    "roc_auc = auc(fpr, tpr)\n",
    "plt.plot(fpr, tpr, 'k--', color='red',label='ROC (area = {0:.3f})'.format(roc_auc), lw=2)\n",
    "\n",
    "    \n",
    "plt.xlim([-0.05, 1.05])  \n",
    "plt.ylim([-0.05, 1.05])\n",
    "plt.xlabel('FPR')\n",
    "plt.ylabel('TPR')  \n",
    "plt.title('ROC Curve')\n",
    "plt.legend(loc=\"lower right\")\n",
    "#plt.savefig('NB-roc',dpi=240,bbox_inches='tight')\n",
    "plt.show()"
   ]
  },
  {
   "cell_type": "code",
   "execution_count": null,
   "metadata": {},
   "outputs": [],
   "source": []
  },
  {
   "cell_type": "code",
   "execution_count": null,
   "metadata": {},
   "outputs": [],
   "source": []
  }
 ],
 "metadata": {
  "kernelspec": {
   "display_name": "Python 3",
   "language": "python",
   "name": "python3"
  },
  "language_info": {
   "codemirror_mode": {
    "name": "ipython",
    "version": 3
   },
   "file_extension": ".py",
   "mimetype": "text/x-python",
   "name": "python",
   "nbconvert_exporter": "python",
   "pygments_lexer": "ipython3",
   "version": "3.8.8"
  }
 },
 "nbformat": 4,
 "nbformat_minor": 4
}
