{
 "cells": [
  {
   "cell_type": "code",
   "execution_count": 1,
   "id": "df9ad5b4-a393-497a-bc51-e0a46fb903d4",
   "metadata": {},
   "outputs": [],
   "source": [
    "# IMPORT LIBRARY \n",
    "\n",
    "from __future__ import print_function, division\n",
    "%matplotlib inline\n",
    "import matplotlib.pyplot as plt\n",
    "import pandas as pd\n",
    "import numpy as np\n",
    "import warnings\n",
    "import matplotlib.patches as mpatches\n",
    "import seaborn as sns\n",
    "\n",
    "from sklearn.model_selection import train_test_split\n",
    "\n",
    "# 随机森林, GBR, KNN, LR, Decision Tree, GNB\n",
    "from sklearn.ensemble import RandomForestClassifier\n",
    "from sklearn.ensemble import GradientBoostingRegressor\n",
    "from sklearn.utils import check_random_state\n",
    "from sklearn.metrics import classification_report, confusion_matrix, roc_curve, auc\n",
    "from sklearn.neighbors import KNeighborsClassifier\n",
    "from sklearn.metrics import accuracy_score\n",
    "from sklearn.linear_model import LogisticRegression\n",
    "from sklearn.tree import DecisionTreeRegressor\n",
    "from sklearn.naive_bayes import GaussianNB\n",
    "warnings.filterwarnings('ignore')\n",
    "rs = check_random_state(4421)"
   ]
  },
  {
   "cell_type": "code",
   "execution_count": 2,
   "id": "e7e8bacf-9cce-4f68-ac02-b1306396bd0b",
   "metadata": {},
   "outputs": [],
   "source": [
    "data = pd.read_csv('games.csv')"
   ]
  },
  {
   "cell_type": "code",
   "execution_count": 3,
   "id": "256c64ab-b8b9-4ccf-b11e-e7c7cc667022",
   "metadata": {},
   "outputs": [],
   "source": [
    "data=data[[\"winner\",\"firstBlood\",\"firstTower\",\"firstInhibitor\",\"firstBaron\",\"firstDragon\",\"firstRiftHerald\",\"t1_towerKills\",\"t1_inhibitorKills\",'t1_baronKills',\n",
    "       't1_dragonKills','t1_riftHeraldKills','t2_towerKills','t2_inhibitorKills', 't2_baronKills', 't2_dragonKills','t2_riftHeraldKills'\n",
    "       ]]"
   ]
  },
  {
   "cell_type": "code",
   "execution_count": 4,
   "id": "b5dc0dc1-10a2-4138-9ae2-c054aff7967f",
   "metadata": {},
   "outputs": [],
   "source": [
    "y = data[\"winner\"].values\n",
    "x = data.drop([\"winner\"],axis=1)\n",
    "from sklearn.model_selection import train_test_split\n",
    "x_train, x_test, y_train, y_test = train_test_split(x,y,test_size = 0.2,random_state=1)\n",
    "from sklearn.tree import DecisionTreeClassifier\n",
    "from sklearn.model_selection import GridSearchCV\n"
   ]
  },
  {
   "cell_type": "code",
   "execution_count": 5,
   "id": "949185d5-a7cb-4741-b80a-db04b48092a0",
   "metadata": {},
   "outputs": [],
   "source": [
    "criterion=[\"gini\",\"entropy\"]\n",
    "max_depth=range(1,20,2)\n",
    "splitter=[\"best\",\"random\"]\n",
    "dt=DecisionTreeClassifier()\n",
    "grid_decision_tree=GridSearchCV(estimator=dt,cv=15,param_grid=dict(criterion=criterion,max_depth=max_depth,splitter=splitter))"
   ]
  },
  {
   "cell_type": "code",
   "execution_count": 6,
   "id": "faf09c0b-9ea6-4b68-9004-46d3cbda7a87",
   "metadata": {},
   "outputs": [
    {
     "name": "stdout",
     "output_type": "stream",
     "text": [
      "best score:  0.9683675488579522\n",
      "best param:  {'criterion': 'gini', 'max_depth': 7, 'splitter': 'best'}\n"
     ]
    }
   ],
   "source": [
    "grid_decision_tree.fit(x_train,y_train)\n",
    "print(\"best score: \", grid_decision_tree.best_score_)\n",
    "print(\"best param: \", grid_decision_tree.best_params_)"
   ]
  },
  {
   "cell_type": "code",
   "execution_count": 7,
   "id": "08576ef1-ad8c-4932-96d5-2d116f7e0c23",
   "metadata": {},
   "outputs": [
    {
     "name": "stdout",
     "output_type": "stream",
     "text": [
      "score: 0.9698970673917265\n"
     ]
    }
   ],
   "source": [
    "dt2=DecisionTreeClassifier(criterion=\"entropy\",max_depth=7, splitter=\"best\")\n",
    "dt2.fit(x_train,y_train)\n",
    "print(\"score:\", dt2.score(x_test,y_test))"
   ]
  },
  {
   "cell_type": "code",
   "execution_count": 8,
   "id": "b3e8bfaa-90d6-442a-b84c-a2cd76e1ab0c",
   "metadata": {},
   "outputs": [
    {
     "name": "stdout",
     "output_type": "stream",
     "text": [
      "winner is : [1]\n",
      "first team win probability is %  [56.708160442600274] \n",
      "second team win probability is %: [43.291839557399726]\n"
     ]
    }
   ],
   "source": [
    "x2=[[0,0,0,0,0,0,0,0,0,0,0,0,0,0,0,0]]\n",
    "c=dt2.predict_proba(x2).reshape(-1,1)\n",
    "print(\"winner is :\" , dt2.predict(x2) )\n",
    "print(\"first team win probability is % \", list(c[0]*100),\n",
    "      \"\\nsecond team win probability is %:\",list(c[1]*100)  )\n"
   ]
  },
  {
   "cell_type": "code",
   "execution_count": 11,
   "id": "121e0cc3-afe9-40ed-8fc6-a28487f7f4a5",
   "metadata": {},
   "outputs": [
    {
     "name": "stdout",
     "output_type": "stream",
     "text": [
      "winner is : [2]\n",
      "first team win probability is %  [11.428571428571429] \n",
      "second team win probability is %: [88.57142857142857]\n"
     ]
    }
   ],
   "source": [
    "x2=[[1,1,2,1,1,2,5,2,1,1,1,7,2,1,1,1]]\n",
    "c=dt2.predict_proba(x2).reshape(-1,1)\n",
    "print(\"winner is :\" , dt2.predict(x2) )\n",
    "print(\"first team win probability is % \", list(c[0]*100),\n",
    "      \"\\nsecond team win probability is %:\",list(c[1]*100)  )"
   ]
  },
  {
   "cell_type": "code",
   "execution_count": null,
   "id": "c02f057e-b87e-4663-a6a1-17770b1c03d9",
   "metadata": {},
   "outputs": [],
   "source": []
  }
 ],
 "metadata": {
  "kernelspec": {
   "display_name": "Python 3",
   "language": "python",
   "name": "python3"
  },
  "language_info": {
   "codemirror_mode": {
    "name": "ipython",
    "version": 3
   },
   "file_extension": ".py",
   "mimetype": "text/x-python",
   "name": "python",
   "nbconvert_exporter": "python",
   "pygments_lexer": "ipython3",
   "version": "3.8.8"
  }
 },
 "nbformat": 4,
 "nbformat_minor": 5
}
