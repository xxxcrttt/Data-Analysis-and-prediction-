{
 "cells": [
  {
   "cell_type": "code",
   "execution_count": 16,
   "id": "e117926f-6a67-4eda-a1e2-8572afd9bdef",
   "metadata": {},
   "outputs": [],
   "source": [
    "# IMPORT LIBRARY \n",
    "\n",
    "from __future__ import print_function, division\n",
    "%matplotlib inline\n",
    "import matplotlib.pyplot as plt\n",
    "import pandas as pd\n",
    "import numpy as np\n",
    "import warnings\n",
    "import matplotlib.patches as mpatches\n",
    "import seaborn as sns\n",
    "\n",
    "from sklearn.model_selection import train_test_split\n",
    "\n",
    "# 随机森林, GBR, KNN, LR, Decision Tree, GNB\n",
    "from sklearn.ensemble import RandomForestClassifier\n",
    "from sklearn.ensemble import GradientBoostingRegressor\n",
    "from sklearn.utils import check_random_state\n",
    "from sklearn.metrics import classification_report, confusion_matrix, roc_curve, auc\n",
    "from sklearn.neighbors import KNeighborsClassifier\n",
    "from sklearn.metrics import accuracy_score\n",
    "from sklearn.linear_model import LogisticRegression\n",
    "from sklearn.tree import DecisionTreeRegressor\n",
    "from sklearn.naive_bayes import GaussianNB\n",
    "warnings.filterwarnings('ignore')\n",
    "rs = check_random_state(4421)"
   ]
  },
  {
   "cell_type": "code",
   "execution_count": 17,
   "id": "ae430718-fb94-4bf8-bcba-e99e7efec5e3",
   "metadata": {},
   "outputs": [],
   "source": [
    "data = pd.read_csv('games.csv')"
   ]
  },
  {
   "cell_type": "code",
   "execution_count": 24,
   "id": "23ff7f9e-0197-44bc-ba86-800dcbb66c66",
   "metadata": {},
   "outputs": [],
   "source": [
    "data=data[[\"winner\",\"firstBlood\",\"firstTower\",\"firstInhibitor\",\"firstBaron\",\"firstDragon\",\"firstRiftHerald\",\"t1_towerKills\",\"t1_inhibitorKills\",'t1_baronKills',\n",
    "       't1_dragonKills','t1_riftHeraldKills','t2_towerKills','t2_inhibitorKills', 't2_baronKills', 't2_dragonKills','t2_riftHeraldKills'\n",
    "       ]]"
   ]
  },
  {
   "cell_type": "code",
   "execution_count": 25,
   "id": "eab01a91-5c1b-4220-bc15-04ae4f903c31",
   "metadata": {},
   "outputs": [],
   "source": [
    "y = data[\"winner\"].values\n",
    "x = data.drop([\"winner\"],axis=1)\n",
    "from sklearn.model_selection import train_test_split\n",
    "X_train, X_test, y_train, y_test = train_test_split(x,y,test_size = 0.2,random_state=rs)\n"
   ]
  },
  {
   "cell_type": "code",
   "execution_count": 22,
   "id": "8094f480-d986-44c0-afc4-29ff5ac2e4ea",
   "metadata": {},
   "outputs": [
    {
     "name": "stdout",
     "output_type": "stream",
     "text": [
      "precision:  0.970771023\n",
      "n_estimators:33\n"
     ]
    }
   ],
   "source": [
    "score = 0\n",
    "precision = []\n",
    "\n",
    "for n in range(1,50):\n",
    "    rnf = RandomForestClassifier(n_estimators=n, random_state=rs)\n",
    "    rnf.fit(X_train, y_train)\n",
    "    prediction = rnf.predict(X_test)\n",
    "    accuracy_test = accuracy_score(y_test, prediction.round())\n",
    "    if (score<accuracy_test):\n",
    "        y_pred = prediction\n",
    "        score = accuracy_test\n",
    "        pos = n\n",
    "    precision.insert(n, accuracy_test)\n",
    "\n",
    "print(\"precision: {0: .9f}\".format(score))\n",
    "print(\"n_estimators:\"+format(pos))"
   ]
  },
  {
   "cell_type": "code",
   "execution_count": 26,
   "id": "b402e521-149b-4c08-82a3-b0c6fe6f14ea",
   "metadata": {},
   "outputs": [
    {
     "name": "stdout",
     "output_type": "stream",
     "text": [
      "winner is : [1]\n",
      "first team win probability is %  [53.05897552298531] \n",
      "second team win probability is %: [46.94102447701468]\n"
     ]
    }
   ],
   "source": [
    "x2=[[0,0,0,0,0,0,0,0,0,0,0,0,0,0,0,0]]\n",
    "c=rnf.predict_proba(x2).reshape(-1,1)\n",
    "print(\"winner is :\" , rnf.predict(x2) )\n",
    "print(\"first team win probability is % \", list(c[0]*100),\n",
    "      \"\\nsecond team win probability is %:\",list(c[1]*100)  )"
   ]
  },
  {
   "cell_type": "code",
   "execution_count": 28,
   "id": "5c79b030-89c2-4699-a546-fa95e1083f61",
   "metadata": {},
   "outputs": [
    {
     "name": "stdout",
     "output_type": "stream",
     "text": [
      "winner is : [2]\n",
      "first team win probability is %  [28.57142857142857] \n",
      "second team win probability is %: [71.42857142857143]\n"
     ]
    }
   ],
   "source": [
    "x2=[[1,1,2,1,1,2,5,2,1,1,1,7,2,1,1,1]]\n",
    "c=rnf.predict_proba(x2).reshape(-1,1)\n",
    "print(\"winner is :\" , rnf.predict(x2) )\n",
    "print(\"first team win probability is % \", list(c[0]*100),\n",
    "      \"\\nsecond team win probability is %:\",list(c[1]*100)  )"
   ]
  },
  {
   "cell_type": "code",
   "execution_count": null,
   "id": "911d2827-c993-43b0-96c3-4ea3f5b0b40b",
   "metadata": {},
   "outputs": [],
   "source": []
  }
 ],
 "metadata": {
  "kernelspec": {
   "display_name": "Python 3",
   "language": "python",
   "name": "python3"
  },
  "language_info": {
   "codemirror_mode": {
    "name": "ipython",
    "version": 3
   },
   "file_extension": ".py",
   "mimetype": "text/x-python",
   "name": "python",
   "nbconvert_exporter": "python",
   "pygments_lexer": "ipython3",
   "version": "3.8.8"
  }
 },
 "nbformat": 4,
 "nbformat_minor": 5
}
