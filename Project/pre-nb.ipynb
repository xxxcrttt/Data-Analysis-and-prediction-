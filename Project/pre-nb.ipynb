{
 "cells": [
  {
   "cell_type": "code",
   "execution_count": 21,
   "id": "bb40631d-0345-43da-b79e-381b6950ff66",
   "metadata": {},
   "outputs": [],
   "source": [
    "# IMPORT LIBRARY \n",
    "\n",
    "from __future__ import print_function, division\n",
    "%matplotlib inline\n",
    "import matplotlib.pyplot as plt\n",
    "import pandas as pd\n",
    "import numpy as np\n",
    "import warnings\n",
    "import matplotlib.patches as mpatches\n",
    "import seaborn as sns\n",
    "\n",
    "from sklearn.model_selection import train_test_split\n",
    "\n",
    "# 随机森林, GBR, KNN, LR, Decision Tree, GNB\n",
    "from sklearn.ensemble import RandomForestClassifier\n",
    "from sklearn.ensemble import GradientBoostingRegressor\n",
    "from sklearn.utils import check_random_state\n",
    "from sklearn.metrics import classification_report, confusion_matrix, roc_curve, auc\n",
    "from sklearn.neighbors import KNeighborsClassifier\n",
    "from sklearn.metrics import accuracy_score\n",
    "from sklearn.linear_model import LogisticRegression\n",
    "from sklearn.tree import DecisionTreeRegressor\n",
    "from sklearn.naive_bayes import GaussianNB\n",
    "warnings.filterwarnings('ignore')\n",
    "rs = check_random_state(4421)"
   ]
  },
  {
   "cell_type": "code",
   "execution_count": 22,
   "id": "c74ed7bd-3368-42f1-95a0-cf495da83edb",
   "metadata": {},
   "outputs": [],
   "source": [
    "data = pd.read_csv('games.csv')"
   ]
  },
  {
   "cell_type": "code",
   "execution_count": 23,
   "id": "90db3fc8-5751-4147-b46d-01d69379312c",
   "metadata": {},
   "outputs": [],
   "source": [
    "data=data[[\"winner\",\"firstBlood\",\"firstTower\",\"firstInhibitor\",\"firstBaron\",\"firstDragon\",\"firstRiftHerald\",\"t1_towerKills\",\"t1_inhibitorKills\",'t1_baronKills',\n",
    "       't1_dragonKills','t1_riftHeraldKills','t2_towerKills','t2_inhibitorKills', 't2_baronKills', 't2_dragonKills','t2_riftHeraldKills'\n",
    "       ]]"
   ]
  },
  {
   "cell_type": "code",
   "execution_count": 24,
   "id": "04a4cfa7-36c9-438c-8343-462a0343c670",
   "metadata": {},
   "outputs": [],
   "source": [
    "y = data[\"winner\"].values\n",
    "x = data.drop([\"winner\"],axis=1)\n",
    "from sklearn.model_selection import train_test_split\n",
    "X_train, X_test, y_train, y_test = train_test_split(x,y,test_size = 0.2,random_state=1)\n"
   ]
  },
  {
   "cell_type": "code",
   "execution_count": 25,
   "id": "b2a6e7de-0a78-48c3-b50a-9f57fc77e8b4",
   "metadata": {},
   "outputs": [
    {
     "name": "stdout",
     "output_type": "stream",
     "text": [
      "Accuracy = 0.9408623033598758\n"
     ]
    }
   ],
   "source": [
    "# Naive Bayes\n",
    "nb = GaussianNB()\n",
    "nb.fit(X_train,y_train)\n",
    "prediction = nb.predict(X_test)\n",
    "accuracy_test = accuracy_score(y_test,prediction.round())\n",
    "print( \"Accuracy =\", accuracy_test )"
   ]
  },
  {
   "cell_type": "code",
   "execution_count": 27,
   "id": "9aefdc83-29b2-4a10-8202-65ad043fac69",
   "metadata": {},
   "outputs": [
    {
     "name": "stdout",
     "output_type": "stream",
     "text": [
      "winner is : [1]\n",
      "first team win probability is %  [99.8830357124735] \n",
      "second team win probability is %: [0.1169642875261695]\n"
     ]
    }
   ],
   "source": [
    "x2=[[0,0,0,0,0,0,0,0,0,0,0,0,0,0,0,0]]\n",
    "c=nb.predict_proba(x2).reshape(-1,1)\n",
    "print(\"winner is :\" , nb.predict(x2) )\n",
    "print(\"first team win probability is % \", list(c[0]*100),\n",
    "      \"\\nsecond team win probability is %:\",list(c[1]*100)  )"
   ]
  },
  {
   "cell_type": "code",
   "execution_count": 30,
   "id": "968c6977-abfd-425b-a172-f48753530dde",
   "metadata": {},
   "outputs": [
    {
     "name": "stdout",
     "output_type": "stream",
     "text": [
      "winner is : [2]\n",
      "first team win probability is %  [2.190897528849143] \n",
      "second team win probability is %: [97.80910247115075]\n"
     ]
    }
   ],
   "source": [
    "x2=[[1,1,2,1,1,2,5,2,1,1,1,7,2,1,1,1]]\n",
    "c=nb.predict_proba(x2).reshape(-1,1)\n",
    "print(\"winner is :\" , nb.predict(x2) )\n",
    "print(\"first team win probability is % \", list(c[0]*100),\n",
    "      \"\\nsecond team win probability is %:\",list(c[1]*100)  )"
   ]
  },
  {
   "cell_type": "code",
   "execution_count": null,
   "id": "172ba876-b35f-4b9a-a58d-0bf93f40909c",
   "metadata": {},
   "outputs": [],
   "source": []
  }
 ],
 "metadata": {
  "kernelspec": {
   "display_name": "Python 3",
   "language": "python",
   "name": "python3"
  },
  "language_info": {
   "codemirror_mode": {
    "name": "ipython",
    "version": 3
   },
   "file_extension": ".py",
   "mimetype": "text/x-python",
   "name": "python",
   "nbconvert_exporter": "python",
   "pygments_lexer": "ipython3",
   "version": "3.8.8"
  }
 },
 "nbformat": 4,
 "nbformat_minor": 5
}
