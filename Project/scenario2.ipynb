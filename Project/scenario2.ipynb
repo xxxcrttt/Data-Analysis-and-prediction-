{
 "cells": [
  {
   "cell_type": "code",
   "execution_count": 3,
   "metadata": {},
   "outputs": [],
   "source": [
    "# IMPORT LIBRARY \n",
    "\n",
    "from __future__ import print_function, division\n",
    "%matplotlib inline\n",
    "import matplotlib.pyplot as plt\n",
    "import pandas as pd\n",
    "import numpy as np\n",
    "import warnings\n",
    "import matplotlib.patches as mpatches\n",
    "import seaborn as sns\n",
    "\n",
    "from sklearn.model_selection import train_test_split\n",
    "\n",
    "# 随机森林, GBR, KNN, LR, Decision Tree, GNB\n",
    "from sklearn.ensemble import RandomForestClassifier\n",
    "from sklearn.ensemble import GradientBoostingRegressor\n",
    "from sklearn.utils import check_random_state\n",
    "from sklearn.metrics import classification_report, confusion_matrix, roc_curve, auc\n",
    "from sklearn.neighbors import KNeighborsClassifier\n",
    "from sklearn.metrics import accuracy_score\n",
    "from sklearn.linear_model import LogisticRegression\n",
    "from sklearn.tree import DecisionTreeRegressor\n",
    "from sklearn.naive_bayes import GaussianNB\n",
    "warnings.filterwarnings('ignore')\n",
    "rs = check_random_state(4421)"
   ]
  },
  {
   "cell_type": "code",
   "execution_count": 4,
   "metadata": {},
   "outputs": [],
   "source": [
    "# 数据加载和转换\n",
    "# 数据读取: \n",
    "\n",
    "data = pd.read_csv('games.csv')"
   ]
  },
  {
   "cell_type": "code",
   "execution_count": 5,
   "metadata": {},
   "outputs": [
    {
     "name": "stdout",
     "output_type": "stream",
     "text": [
      "<class 'pandas.core.frame.DataFrame'>\n",
      "RangeIndex: 51490 entries, 0 to 51489\n",
      "Data columns (total 61 columns):\n",
      " #   Column              Non-Null Count  Dtype\n",
      "---  ------              --------------  -----\n",
      " 0   gameId              51490 non-null  int64\n",
      " 1   creationTime        51490 non-null  int64\n",
      " 2   gameDuration        51490 non-null  int64\n",
      " 3   seasonId            51490 non-null  int64\n",
      " 4   winner              51490 non-null  int64\n",
      " 5   firstBlood          51490 non-null  int64\n",
      " 6   firstTower          51490 non-null  int64\n",
      " 7   firstInhibitor      51490 non-null  int64\n",
      " 8   firstBaron          51490 non-null  int64\n",
      " 9   firstDragon         51490 non-null  int64\n",
      " 10  firstRiftHerald     51490 non-null  int64\n",
      " 11  t1_champ1id         51490 non-null  int64\n",
      " 12  t1_champ1_sum1      51490 non-null  int64\n",
      " 13  t1_champ1_sum2      51490 non-null  int64\n",
      " 14  t1_champ2id         51490 non-null  int64\n",
      " 15  t1_champ2_sum1      51490 non-null  int64\n",
      " 16  t1_champ2_sum2      51490 non-null  int64\n",
      " 17  t1_champ3id         51490 non-null  int64\n",
      " 18  t1_champ3_sum1      51490 non-null  int64\n",
      " 19  t1_champ3_sum2      51490 non-null  int64\n",
      " 20  t1_champ4id         51490 non-null  int64\n",
      " 21  t1_champ4_sum1      51490 non-null  int64\n",
      " 22  t1_champ4_sum2      51490 non-null  int64\n",
      " 23  t1_champ5id         51490 non-null  int64\n",
      " 24  t1_champ5_sum1      51490 non-null  int64\n",
      " 25  t1_champ5_sum2      51490 non-null  int64\n",
      " 26  t1_towerKills       51490 non-null  int64\n",
      " 27  t1_inhibitorKills   51490 non-null  int64\n",
      " 28  t1_baronKills       51490 non-null  int64\n",
      " 29  t1_dragonKills      51490 non-null  int64\n",
      " 30  t1_riftHeraldKills  51490 non-null  int64\n",
      " 31  t1_ban1             51490 non-null  int64\n",
      " 32  t1_ban2             51490 non-null  int64\n",
      " 33  t1_ban3             51490 non-null  int64\n",
      " 34  t1_ban4             51490 non-null  int64\n",
      " 35  t1_ban5             51490 non-null  int64\n",
      " 36  t2_champ1id         51490 non-null  int64\n",
      " 37  t2_champ1_sum1      51490 non-null  int64\n",
      " 38  t2_champ1_sum2      51490 non-null  int64\n",
      " 39  t2_champ2id         51490 non-null  int64\n",
      " 40  t2_champ2_sum1      51490 non-null  int64\n",
      " 41  t2_champ2_sum2      51490 non-null  int64\n",
      " 42  t2_champ3id         51490 non-null  int64\n",
      " 43  t2_champ3_sum1      51490 non-null  int64\n",
      " 44  t2_champ3_sum2      51490 non-null  int64\n",
      " 45  t2_champ4id         51490 non-null  int64\n",
      " 46  t2_champ4_sum1      51490 non-null  int64\n",
      " 47  t2_champ4_sum2      51490 non-null  int64\n",
      " 48  t2_champ5id         51490 non-null  int64\n",
      " 49  t2_champ5_sum1      51490 non-null  int64\n",
      " 50  t2_champ5_sum2      51490 non-null  int64\n",
      " 51  t2_towerKills       51490 non-null  int64\n",
      " 52  t2_inhibitorKills   51490 non-null  int64\n",
      " 53  t2_baronKills       51490 non-null  int64\n",
      " 54  t2_dragonKills      51490 non-null  int64\n",
      " 55  t2_riftHeraldKills  51490 non-null  int64\n",
      " 56  t2_ban1             51490 non-null  int64\n",
      " 57  t2_ban2             51490 non-null  int64\n",
      " 58  t2_ban3             51490 non-null  int64\n",
      " 59  t2_ban4             51490 non-null  int64\n",
      " 60  t2_ban5             51490 non-null  int64\n",
      "dtypes: int64(61)\n",
      "memory usage: 24.0 MB\n"
     ]
    }
   ],
   "source": [
    "data\n",
    "data.info()"
   ]
  },
  {
   "cell_type": "code",
   "execution_count": 6,
   "metadata": {},
   "outputs": [],
   "source": [
    "data.drop([\"t1_champ1id\",\"t1_champ2id\",\n",
    "                      \"t1_champ3id\",\"t1_champ4id\",\"t1_champ5id\",\"t2_champ1id\",\n",
    "                      \"t2_champ2id\",\"t2_champ3id\",\"t2_champ4id\",\"t2_champ5id\",\"t1_ban1\",\"t1_ban2\",\"t1_ban3\",\n",
    "                      \"t1_ban4\",\"t1_ban5\",\"t2_ban1\",\"t2_ban2\",\"t2_ban3\",\"t2_ban4\",\"t2_ban5\",\"seasonId\"],axis = 1,inplace = True)"
   ]
  },
  {
   "cell_type": "code",
   "execution_count": 7,
   "metadata": {},
   "outputs": [
    {
     "name": "stdout",
     "output_type": "stream",
     "text": [
      "<class 'pandas.core.frame.DataFrame'>\n",
      "RangeIndex: 51490 entries, 0 to 51489\n",
      "Data columns (total 40 columns):\n",
      " #   Column              Non-Null Count  Dtype\n",
      "---  ------              --------------  -----\n",
      " 0   gameId              51490 non-null  int64\n",
      " 1   creationTime        51490 non-null  int64\n",
      " 2   gameDuration        51490 non-null  int64\n",
      " 3   winner              51490 non-null  int64\n",
      " 4   firstBlood          51490 non-null  int64\n",
      " 5   firstTower          51490 non-null  int64\n",
      " 6   firstInhibitor      51490 non-null  int64\n",
      " 7   firstBaron          51490 non-null  int64\n",
      " 8   firstDragon         51490 non-null  int64\n",
      " 9   firstRiftHerald     51490 non-null  int64\n",
      " 10  t1_champ1_sum1      51490 non-null  int64\n",
      " 11  t1_champ1_sum2      51490 non-null  int64\n",
      " 12  t1_champ2_sum1      51490 non-null  int64\n",
      " 13  t1_champ2_sum2      51490 non-null  int64\n",
      " 14  t1_champ3_sum1      51490 non-null  int64\n",
      " 15  t1_champ3_sum2      51490 non-null  int64\n",
      " 16  t1_champ4_sum1      51490 non-null  int64\n",
      " 17  t1_champ4_sum2      51490 non-null  int64\n",
      " 18  t1_champ5_sum1      51490 non-null  int64\n",
      " 19  t1_champ5_sum2      51490 non-null  int64\n",
      " 20  t1_towerKills       51490 non-null  int64\n",
      " 21  t1_inhibitorKills   51490 non-null  int64\n",
      " 22  t1_baronKills       51490 non-null  int64\n",
      " 23  t1_dragonKills      51490 non-null  int64\n",
      " 24  t1_riftHeraldKills  51490 non-null  int64\n",
      " 25  t2_champ1_sum1      51490 non-null  int64\n",
      " 26  t2_champ1_sum2      51490 non-null  int64\n",
      " 27  t2_champ2_sum1      51490 non-null  int64\n",
      " 28  t2_champ2_sum2      51490 non-null  int64\n",
      " 29  t2_champ3_sum1      51490 non-null  int64\n",
      " 30  t2_champ3_sum2      51490 non-null  int64\n",
      " 31  t2_champ4_sum1      51490 non-null  int64\n",
      " 32  t2_champ4_sum2      51490 non-null  int64\n",
      " 33  t2_champ5_sum1      51490 non-null  int64\n",
      " 34  t2_champ5_sum2      51490 non-null  int64\n",
      " 35  t2_towerKills       51490 non-null  int64\n",
      " 36  t2_inhibitorKills   51490 non-null  int64\n",
      " 37  t2_baronKills       51490 non-null  int64\n",
      " 38  t2_dragonKills      51490 non-null  int64\n",
      " 39  t2_riftHeraldKills  51490 non-null  int64\n",
      "dtypes: int64(40)\n",
      "memory usage: 15.7 MB\n"
     ]
    }
   ],
   "source": [
    "data\n",
    "data.info()"
   ]
  },
  {
   "cell_type": "code",
   "execution_count": 8,
   "metadata": {},
   "outputs": [],
   "source": [
    "data=data[[\"winner\",\"firstBlood\",\"firstTower\",\"firstInhibitor\",\"firstBaron\",\"firstDragon\",\"firstRiftHerald\",\"t1_towerKills\",\"t1_inhibitorKills\",'t1_baronKills',\n",
    "       't1_dragonKills','t1_riftHeraldKills','t2_towerKills','t2_inhibitorKills', 't2_baronKills', 't2_dragonKills','t2_riftHeraldKills'\n",
    "       ]]"
   ]
  },
  {
   "cell_type": "code",
   "execution_count": 9,
   "metadata": {},
   "outputs": [],
   "source": [
    "X = data.drop(['winner'], axis=1)\n",
    "Y = data['winner'].values"
   ]
  },
  {
   "cell_type": "code",
   "execution_count": 10,
   "metadata": {},
   "outputs": [],
   "source": [
    "X_train, X_test, y_train, y_test = train_test_split(X, Y, test_size=0.20, random_state=rs)\n",
    "\n",
    "fpr = dict()\n",
    "tpr = dict()\n",
    "roc_auc = dict()"
   ]
  },
  {
   "cell_type": "code",
   "execution_count": 11,
   "metadata": {},
   "outputs": [
    {
     "data": {
      "text/plain": [
       "LogisticRegression()"
      ]
     },
     "execution_count": 11,
     "metadata": {},
     "output_type": "execute_result"
    }
   ],
   "source": [
    "#logistic regression\n",
    "from sklearn.linear_model import LogisticRegression\n",
    "lr = LogisticRegression()\n",
    "lr.fit(X_train, y_train)\n"
   ]
  },
  {
   "cell_type": "code",
   "execution_count": 12,
   "metadata": {},
   "outputs": [
    {
     "name": "stdout",
     "output_type": "stream",
     "text": [
      "Accuracy= 0.9607690813750243\n"
     ]
    }
   ],
   "source": [
    "y_pred = lr.predict(X_test)\n",
    "accuracy_test = accuracy_score(y_test, y_pred.round())\n",
    "print(\"Accuracy=\", accuracy_test)"
   ]
  },
  {
   "cell_type": "code",
   "execution_count": 13,
   "metadata": {},
   "outputs": [
    {
     "name": "stdout",
     "output_type": "stream",
     "text": [
      "              precision    recall  f1-score   support\n",
      "\n",
      "           1    0.96540   0.95689   0.96112      5219\n",
      "           2    0.95610   0.96476   0.96041      5079\n",
      "\n",
      "    accuracy                        0.96077     10298\n",
      "   macro avg    0.96075   0.96082   0.96077     10298\n",
      "weighted avg    0.96081   0.96077   0.96077     10298\n",
      "\n"
     ]
    }
   ],
   "source": [
    "from sklearn.metrics import classification_report\n",
    "print(classification_report(y_test, y_pred, digits=5))"
   ]
  },
  {
   "cell_type": "code",
   "execution_count": 41,
   "metadata": {},
   "outputs": [
    {
     "data": {
      "image/png": "[encoded data removed]",
      "text/plain": [
       "<Figure size 432x288 with 1 Axes>"
      ]
     },
     "metadata": {
      "needs_background": "light"
     },
     "output_type": "display_data"
    }
   ],
   "source": [
    "confusion = confusion_matrix(y_test, y_pred)\n",
    "plt.clf()\n",
    "plt.imshow(confusion, interpolation='nearest', cmap=plt.cm.Oranges_r)\n",
    "classNames = ['Negative', 'Positive']\n",
    "plt.title('Logistic Regression confusion matrix')\n",
    "plt.ylabel('True Value')\n",
    "plt.xlabel('Predict Value')\n",
    "\n",
    "tick_marks = np.arange(len(classNames))\n",
    "plt.xticks(tick_marks, classNames, rotation=45)\n",
    "plt.yticks(tick_marks, classNames)\n",
    "s = [['TN', 'FP'], ['FN','TP']]\n",
    "s = [['TN', 'FP'], ['FN','TP']]\n",
    "for i in range(2):\n",
    "    for j in range(2):\n",
    "        plt.text(j,i,str(s[i][j])+\" = \"+str(confusion[i][j]), \n",
    "                 horizontalalignment='center', verticalalignment='center')\n",
    "\n",
    "plt.savefig(\"LR_con\", dpi=160, bbox_inches='tight')\n"
   ]
  },
  {
   "cell_type": "code",
   "execution_count": 42,
   "metadata": {},
   "outputs": [],
   "source": [
    "fpr[1], tpr[1], _ = roc_curve(y_test, y_pred,pos_label=2)\n",
    "roc_auc[1] = auc(fpr[1], tpr[1])"
   ]
  },
  {
   "cell_type": "code",
   "execution_count": 18,
   "metadata": {},
   "outputs": [
    {
     "name": "stdout",
     "output_type": "stream",
     "text": [
      "accuracy:  0.96728\n",
      "n_neighbors:24\n"
     ]
    }
   ],
   "source": [
    "# KNN \n",
    "score = 0\n",
    "precision = []\n",
    "\n",
    "for k in range(1, 50):\n",
    "    knn = KNeighborsClassifier(n_neighbors=k)\n",
    "    knn.fit(X_train, y_train)\n",
    "    prediction = knn.predict(X_test)\n",
    "    accuracy_test = accuracy_score(y_test,prediction.round())\n",
    "    if (score < accuracy_test):\n",
    "        y_pred = prediction\n",
    "        score = knn.score(X_test, y_test)\n",
    "        best = k\n",
    "    precision.insert(k, knn.score(X_test, y_test))\n",
    "    \n",
    "print(\"accuracy: {0: .5f}\".format(score))\n",
    "print(\"n_neighbors:\"+format(best))"
   ]
  },
  {
   "cell_type": "code",
   "execution_count": 44,
   "metadata": {},
   "outputs": [
    {
     "data": {
      "image/png": "[encoded data removed]",
      "text/plain": [
       "<Figure size 432x288 with 1 Axes>"
      ]
     },
     "metadata": {
      "needs_background": "light"
     },
     "output_type": "display_data"
    }
   ],
   "source": [
    "plt.title('accuracy vs n_neighbors')\n",
    "plt.ylabel('accuracy')\n",
    "plt.xlabel('n_neighbors')\n",
    "plt.plot(precision)\n",
    "plt.savefig(\"KNN\",dpi=160,bbox_inches='tight')"
   ]
  },
  {
   "cell_type": "code",
   "execution_count": 45,
   "metadata": {},
   "outputs": [
    {
     "data": {
      "image/png": "[encoded data removed]",
      "text/plain": [
       "<Figure size 432x288 with 1 Axes>"
      ]
     },
     "metadata": {
      "needs_background": "light"
     },
     "output_type": "display_data"
    }
   ],
   "source": [
    "confusion = confusion_matrix(y_test, y_pred)\n",
    "plt.clf()\n",
    "plt.imshow(confusion, interpolation='nearest', cmap=plt.cm.Oranges)\n",
    "classNames = ['Negative', 'Positive']\n",
    "plt.title('KNN confusion matrix')\n",
    "plt.ylabel('True Value')\n",
    "plt.xlabel('Predict Value')\n",
    "\n",
    "tick_marks = np.arange(len(classNames))\n",
    "plt.xticks(tick_marks, classNames, rotation=45)\n",
    "plt.yticks(tick_marks, classNames)\n",
    "s = [['TN', 'FP'], ['FN','TP']]\n",
    "s = [['TN', 'FP'], ['FN','TP']]\n",
    "for i in range(2):\n",
    "    for j in range(2):\n",
    "        plt.text(j,i,str(s[i][j])+\" = \"+str(confusion[i][j]), \n",
    "                 horizontalalignment='center', verticalalignment='center')\n",
    "\n",
    "\n",
    "plt.savefig(\"KNN_con\",dpi=160, bbox_inches='tight')"
   ]
  },
  {
   "cell_type": "code",
   "execution_count": 46,
   "metadata": {},
   "outputs": [
    {
     "name": "stdout",
     "output_type": "stream",
     "text": [
      "              precision    recall  f1-score   support\n",
      "\n",
      "           1    0.96637   0.96915   0.96776      5219\n",
      "           2    0.96821   0.96535   0.96678      5079\n",
      "\n",
      "    accuracy                        0.96728     10298\n",
      "   macro avg    0.96729   0.96725   0.96727     10298\n",
      "weighted avg    0.96728   0.96728   0.96727     10298\n",
      "\n"
     ]
    }
   ],
   "source": [
    "from sklearn.metrics import classification_report\n",
    "print(classification_report(y_test, y_pred, digits=5))"
   ]
  },
  {
   "cell_type": "code",
   "execution_count": 47,
   "metadata": {},
   "outputs": [],
   "source": [
    "fpr[2], tpr[2], _ = roc_curve(y_test, y_pred,pos_label=2)\n",
    "roc_auc[2] = auc(fpr[2], tpr[2])"
   ]
  },
  {
   "cell_type": "code",
   "execution_count": 9,
   "metadata": {},
   "outputs": [
    {
     "name": "stdout",
     "output_type": "stream",
     "text": [
      "Accuracy (test)  = 0.9362983103515246\n"
     ]
    }
   ],
   "source": [
    "# 朴素贝叶斯:\n",
    "nb = GaussianNB()\n",
    "nb.fit(X_train,y_train)\n",
    "prediction = nb.predict(X_test)\n",
    "accuracy_test = accuracy_score(y_test,prediction.round())\n",
    "print( \"Accuracy (test)  =\", accuracy_test )"
   ]
  },
  {
   "cell_type": "code",
   "execution_count": 49,
   "metadata": {},
   "outputs": [
    {
     "data": {
      "image/png": "[encoded data removed]",
      "text/plain": [
       "<Figure size 432x288 with 1 Axes>"
      ]
     },
     "metadata": {
      "needs_background": "light"
     },
     "output_type": "display_data"
    }
   ],
   "source": [
    "y_pred = nb.predict(X_test)\n",
    "\n",
    "confusion = confusion_matrix(y_test, y_pred)\n",
    "plt.clf()\n",
    "plt.imshow(confusion, interpolation='nearest', cmap=plt.cm.Oranges)\n",
    "classNames = ['Negative', 'Positive']\n",
    "plt.title('Naive Bayes confusion matrix')\n",
    "plt.ylabel('True Value')\n",
    "plt.xlabel('Predict Value')\n",
    "\n",
    "tick_marks = np.arange(len(classNames))\n",
    "plt.xticks(tick_marks, classNames, rotation=45)\n",
    "plt.yticks(tick_marks, classNames)\n",
    "s = [['TN', 'FP'], ['FN','TP']]\n",
    "s = [['TN', 'FP'], ['FN','TP']]\n",
    "for i in range(2):\n",
    "    for j in range(2):\n",
    "        plt.text(j,i,str(s[i][j])+\" = \"+str(confusion[i][j]), \n",
    "                 horizontalalignment='center', verticalalignment='center')\n",
    "\n",
    "\n",
    "plt.savefig(\"NB_con\",dpi=160, bbox_inches='tight')"
   ]
  },
  {
   "cell_type": "code",
   "execution_count": 50,
   "metadata": {},
   "outputs": [
    {
     "name": "stdout",
     "output_type": "stream",
     "text": [
      "              precision    recall  f1-score   support\n",
      "\n",
      "           1    0.92958   0.94597   0.93770      5219\n",
      "           2    0.94345   0.92636   0.93483      5079\n",
      "\n",
      "    accuracy                        0.93630     10298\n",
      "   macro avg    0.93652   0.93617   0.93627     10298\n",
      "weighted avg    0.93642   0.93630   0.93629     10298\n",
      "\n"
     ]
    }
   ],
   "source": [
    "from sklearn.metrics import classification_report\n",
    "print(classification_report(y_test, y_pred, digits=5))"
   ]
  },
  {
   "cell_type": "code",
   "execution_count": 51,
   "metadata": {},
   "outputs": [],
   "source": [
    "#ROC \n",
    "fpr[3], tpr[3], _ = roc_curve(y_test, y_pred,pos_label=2)\n",
    "roc_auc[3] = auc(fpr[3], tpr[3])"
   ]
  },
  {
   "cell_type": "code",
   "execution_count": 52,
   "metadata": {},
   "outputs": [
    {
     "name": "stdout",
     "output_type": "stream",
     "text": [
      "Precision:  0.96407\n",
      "min_samples_split: 7\n",
      "min_samples_leaf: 4\n"
     ]
    }
   ],
   "source": [
    "# Decision Tree\n",
    "range1 = range(2, 10)\n",
    "range2 = range(1, 5)\n",
    "score = 0\n",
    "precision = []\n",
    "\n",
    "for es1 in range1:\n",
    "    for es2 in range2:\n",
    "        dtree = DecisionTreeRegressor(random_state=rs, \n",
    "                                      min_samples_split= es1, \n",
    "                                      min_samples_leaf = es2)\n",
    "        dtree.fit(X_train, y_train)\n",
    "        prediction = dtree.predict(X_test)\n",
    "        accuracy_test = accuracy_score(y_test, prediction.round())\n",
    "        if(score < accuracy_test):\n",
    "            y_pred = prediction\n",
    "            score = accuracy_test\n",
    "            best1 = es1\n",
    "            best2 = es2\n",
    "        precision.insert(es1, accuracy_test)\n",
    "\n",
    "print(\"Precision: {0: .5f}\".format(score))\n",
    "print(\"min_samples_split: \" +format(best1))\n",
    "print(\"min_samples_leaf: \" +format(best2))"
   ]
  },
  {
   "cell_type": "code",
   "execution_count": 53,
   "metadata": {},
   "outputs": [
    {
     "data": {
      "image/png": "[encoded data removed]",
      "text/plain": [
       "<Figure size 432x288 with 1 Axes>"
      ]
     },
     "metadata": {
      "needs_background": "light"
     },
     "output_type": "display_data"
    }
   ],
   "source": [
    "from sklearn.model_selection import GridSearchCV\n",
    "\n",
    "plt.title('Precision with the different input parameters')\n",
    "plt.ylabel('precision')\n",
    "plt.xlabel('execute number')\n",
    "plt.plot(precision)\n",
    "plt.savefig(\"DT\",dpi=160,bbox_inches='tight')"
   ]
  },
  {
   "cell_type": "code",
   "execution_count": 54,
   "metadata": {},
   "outputs": [
    {
     "data": {
      "image/png": "[encoded data removed]",
      "text/plain": [
       "<Figure size 432x288 with 1 Axes>"
      ]
     },
     "metadata": {
      "needs_background": "light"
     },
     "output_type": "display_data"
    }
   ],
   "source": [
    "y_pred = y_pred.round()\n",
    "\n",
    "confusion = confusion_matrix(y_test, y_pred)\n",
    "plt.clf()\n",
    "plt.imshow(confusion, interpolation='nearest', cmap=plt.cm.Oranges)\n",
    "classNames = ['Negative', 'Positive']\n",
    "plt.title('Decision Tree confusion matrix')\n",
    "plt.ylabel('True Value')\n",
    "plt.xlabel('Predict Value')\n",
    "\n",
    "tick_marks = np.arange(len(classNames))\n",
    "plt.xticks(tick_marks, classNames, rotation=45)\n",
    "plt.yticks(tick_marks, classNames)\n",
    "s = [['TN', 'FP'], ['FN','TP']]\n",
    "s = [['TN', 'FP'], ['FN','TP']]\n",
    "for i in range(2):\n",
    "    for j in range(2):\n",
    "        plt.text(j,i,str(s[i][j])+\" = \"+str(confusion[i][j]), \n",
    "                 horizontalalignment='center', verticalalignment='center')\n",
    "\n",
    "plt.savefig(\"DT-con\",dpi=160,bbox_inches='tight')"
   ]
  },
  {
   "cell_type": "code",
   "execution_count": 55,
   "metadata": {},
   "outputs": [
    {
     "name": "stdout",
     "output_type": "stream",
     "text": [
      "score: 0.9670809865993397\n"
     ]
    }
   ],
   "source": [
    "from sklearn.tree import DecisionTreeClassifier\n",
    "from sklearn.model_selection import GridSearchCV\n",
    "dt2=DecisionTreeClassifier(criterion=\"gini\",max_depth=8, splitter=\"best\")\n",
    "dt2.fit(X_train,y_train)\n",
    "print(\"score:\", dt2.score(X_test,y_test))"
   ]
  },
  {
   "cell_type": "code",
   "execution_count": 56,
   "metadata": {},
   "outputs": [
    {
     "data": {
      "text/plain": [
       "'Source.gv.pdf'"
      ]
     },
     "execution_count": 56,
     "metadata": {},
     "output_type": "execute_result"
    }
   ],
   "source": [
    "from sklearn import tree\n",
    "import graphviz \n",
    "\n",
    "dot_data = tree.export_graphviz(dt2, out_file=None, feature_names=X.columns,class_names=[\"1\",\"2\"], \n",
    "                     filled=True, rounded=True, special_characters=True)  \n",
    "graph = graphviz.Source(dot_data)  \n",
    "graph.view()"
   ]
  },
  {
   "cell_type": "code",
   "execution_count": 57,
   "metadata": {},
   "outputs": [
    {
     "name": "stdout",
     "output_type": "stream",
     "text": [
      "              precision    recall  f1-score   support\n",
      "\n",
      "           1    0.96473   0.96436   0.96455      5219\n",
      "           2    0.96339   0.96377   0.96358      5079\n",
      "\n",
      "    accuracy                        0.96407     10298\n",
      "   macro avg    0.96406   0.96407   0.96406     10298\n",
      "weighted avg    0.96407   0.96407   0.96407     10298\n",
      "\n"
     ]
    }
   ],
   "source": [
    "from sklearn.metrics import classification_report\n",
    "print(classification_report(y_test, y_pred, digits=5))"
   ]
  },
  {
   "cell_type": "code",
   "execution_count": 58,
   "metadata": {},
   "outputs": [],
   "source": [
    "#ROC \n",
    "fpr[4], tpr[4], _ = roc_curve(y_test, y_pred,pos_label=2)\n",
    "roc_auc[4] = auc(fpr[4], tpr[4])"
   ]
  },
  {
   "cell_type": "code",
   "execution_count": 59,
   "metadata": {},
   "outputs": [
    {
     "data": {
      "text/plain": [
       "SVC(C=1.0, break_ties=False, cache_size=200, class_weight=None, coef0=0.0,\n",
       "    decision_function_shape='ovr', degree=3, gamma=0.1, kernel='rbf',\n",
       "    max_iter=-1, probability=True, random_state=None, shrinking=True, tol=0.001,\n",
       "    verbose=False)"
      ]
     },
     "execution_count": 59,
     "metadata": {},
     "output_type": "execute_result"
    }
   ],
   "source": [
    "#SVM - rbf\n",
    "from sklearn.svm import SVC \n",
    "\n",
    "rbf = SVC(gamma=0.1,probability=True)\n",
    "rbf.fit(X_train, y_train)"
   ]
  },
  {
   "cell_type": "code",
   "execution_count": 60,
   "metadata": {},
   "outputs": [
    {
     "name": "stdout",
     "output_type": "stream",
     "text": [
      "Accuracy= 0.9709652359681492\n"
     ]
    }
   ],
   "source": [
    "y_pred = rbf.predict(X_test)\n",
    "accuracy_test = accuracy_score(y_test, y_pred.round())\n",
    "print(\"Accuracy=\", accuracy_test)"
   ]
  },
  {
   "cell_type": "code",
   "execution_count": 61,
   "metadata": {},
   "outputs": [
    {
     "data": {
      "image/png": "[encoded data removed]",
      "text/plain": [
       "<Figure size 432x288 with 1 Axes>"
      ]
     },
     "metadata": {
      "needs_background": "light"
     },
     "output_type": "display_data"
    }
   ],
   "source": [
    "confusion = confusion_matrix(y_test, y_pred)\n",
    "plt.clf()\n",
    "plt.imshow(confusion, interpolation='nearest', cmap=plt.cm.Oranges)\n",
    "classNames = ['Negative', 'Positive']\n",
    "plt.title('SVM-RBF confusion matrix')\n",
    "plt.ylabel('True Value')\n",
    "plt.xlabel('Predict Value')\n",
    "\n",
    "tick_marks = np.arange(len(classNames))\n",
    "plt.xticks(tick_marks, classNames, rotation=45)\n",
    "plt.yticks(tick_marks, classNames)\n",
    "s = [['TN', 'FP'], ['FN','TP']]\n",
    "s = [['TN', 'FP'], ['FN','TP']]\n",
    "for i in range(2):\n",
    "    for j in range(2):\n",
    "        plt.text(j,i,str(s[i][j])+\" = \"+str(confusion[i][j]), \n",
    "                 horizontalalignment='center', verticalalignment='center')\n",
    "\n",
    "plt.savefig(\"rbf-con\",dpi=160,bbox_inches='tight')"
   ]
  },
  {
   "cell_type": "code",
   "execution_count": 62,
   "metadata": {},
   "outputs": [
    {
     "name": "stdout",
     "output_type": "stream",
     "text": [
      "              precision    recall  f1-score   support\n",
      "\n",
      "           1    0.96839   0.97452   0.97144      5219\n",
      "           2    0.97364   0.96732   0.97047      5079\n",
      "\n",
      "    accuracy                        0.97097     10298\n",
      "   macro avg    0.97102   0.97092   0.97096     10298\n",
      "weighted avg    0.97098   0.97097   0.97096     10298\n",
      "\n"
     ]
    }
   ],
   "source": [
    "from sklearn.metrics import classification_report\n",
    "print(classification_report(y_test, y_pred, digits=5))"
   ]
  },
  {
   "cell_type": "code",
   "execution_count": 63,
   "metadata": {},
   "outputs": [],
   "source": [
    "#ROC \n",
    "fpr[5], tpr[5], _ = roc_curve(y_test, y_pred,pos_label=2)\n",
    "roc_auc[5] = auc(fpr[5], tpr[5])"
   ]
  },
  {
   "cell_type": "code",
   "execution_count": 66,
   "metadata": {},
   "outputs": [
    {
     "name": "stdout",
     "output_type": "stream",
     "text": [
      "precision:  0.971450767\n",
      "n_estimators:158\n"
     ]
    }
   ],
   "source": [
    "# Random Forest\n",
    "score = 0\n",
    "precision = []\n",
    "\n",
    "for n in range(1,500):\n",
    "    rnf = RandomForestClassifier(n_estimators=n, random_state=rs)\n",
    "    rnf.fit(X_train, y_train)\n",
    "    prediction = rnf.predict(X_test)\n",
    "    accuracy_test = accuracy_score(y_test, prediction.round())\n",
    "    if (score<accuracy_test):\n",
    "        y_pred = prediction\n",
    "        score = accuracy_test\n",
    "        pos = n\n",
    "    precision.insert(n, accuracy_test)\n",
    "\n",
    "print(\"precision: {0: .9f}\".format(score))\n",
    "print(\"n_estimators:\"+format(pos))"
   ]
  },
  {
   "cell_type": "code",
   "execution_count": 68,
   "metadata": {},
   "outputs": [
    {
     "data": {
      "image/png": "[encoded data removed]",
      "text/plain": [
       "<Figure size 432x288 with 1 Axes>"
      ]
     },
     "metadata": {
      "needs_background": "light"
     },
     "output_type": "display_data"
    }
   ],
   "source": [
    "plt.title('Precision vs n_estimators')\n",
    "plt.ylabel('precision')\n",
    "plt.xlabel('n_estimators')\n",
    "plt.plot(precision)\n",
    "plt.savefig('RF',dpi=160,bbox_inches='tight')"
   ]
  },
  {
   "cell_type": "code",
   "execution_count": 69,
   "metadata": {},
   "outputs": [
    {
     "data": {
      "image/png": "[encoded data removed]",
      "text/plain": [
       "<Figure size 432x288 with 1 Axes>"
      ]
     },
     "metadata": {
      "needs_background": "light"
     },
     "output_type": "display_data"
    }
   ],
   "source": [
    "confusion = confusion_matrix(y_test, y_pred)\n",
    "plt.clf()\n",
    "plt.imshow(confusion, interpolation='nearest', cmap=plt.cm.Oranges)\n",
    "classNames = ['Negative', 'Positive']\n",
    "plt.title('Random Forest confusion matrix')\n",
    "plt.ylabel('True Value')\n",
    "plt.xlabel('Predict Value')\n",
    "\n",
    "tick_marks = np.arange(len(classNames))\n",
    "plt.xticks(tick_marks, classNames, rotation=45)\n",
    "plt.yticks(tick_marks, classNames)\n",
    "s = [['TN', 'FP'], ['FN','TP']]\n",
    "s = [['TN', 'FP'], ['FN','TP']]\n",
    "for i in range(2):\n",
    "    for j in range(2):\n",
    "        plt.text(j,i,str(s[i][j])+\" = \"+str(confusion[i][j]), \n",
    "                 horizontalalignment='center', verticalalignment='center')\n",
    "\n",
    "\n",
    "plt.savefig(\"RF_con\",dpi=200, bbox_inches='tight')"
   ]
  },
  {
   "cell_type": "code",
   "execution_count": 70,
   "metadata": {},
   "outputs": [
    {
     "name": "stdout",
     "output_type": "stream",
     "text": [
      "              precision    recall  f1-score   support\n",
      "\n",
      "           1    0.96878   0.97509   0.97193      5219\n",
      "           2    0.97423   0.96771   0.97096      5079\n",
      "\n",
      "    accuracy                        0.97145     10298\n",
      "   macro avg    0.97151   0.97140   0.97144     10298\n",
      "weighted avg    0.97147   0.97145   0.97145     10298\n",
      "\n"
     ]
    }
   ],
   "source": [
    "from sklearn.metrics import classification_report\n",
    "print(classification_report(y_test, y_pred, digits=5))"
   ]
  },
  {
   "cell_type": "code",
   "execution_count": 71,
   "metadata": {},
   "outputs": [],
   "source": [
    "fpr[6], tpr[6], _ = roc_curve(y_test, y_pred,pos_label=2)\n",
    "roc_auc[6] = auc(fpr[6], tpr[6])"
   ]
  },
  {
   "cell_type": "code",
   "execution_count": 77,
   "metadata": {},
   "outputs": [
    {
     "data": {
      "image/png": "[encoded data removed]",
      "text/plain": [
       "<Figure size 432x288 with 1 Axes>"
      ]
     },
     "metadata": {
      "needs_background": "light"
     },
     "output_type": "display_data"
    }
   ],
   "source": [
    "# ROC Curve\n",
    "plt.figure()\n",
    "lw = 1\n",
    "\n",
    "plt.plot(fpr[1], tpr[1], color='purple',lw=lw, label='Logistic Regression (area = %0.2f)' % roc_auc[1])\n",
    "plt.plot(fpr[2], tpr[2], color='blue',lw=lw, label='KNN (area = %0.2f)' % roc_auc[2])\n",
    "plt.plot(fpr[3], tpr[3], color='green',lw=lw, label='Naive Bayes (area = %0.2f)' % roc_auc[3])\n",
    "plt.plot(fpr[4], tpr[4], color='orange',lw=lw, label='Decision Tree (area = %0.2f)' % roc_auc[4])\n",
    "plt.plot(fpr[5], tpr[5], color='yellow',lw=lw, label='SVM-RBF (area = %0.2f)' % roc_auc[5])\n",
    "plt.plot(fpr[6], tpr[6], color='skyblue',lw=lw, label='Random Forest (area = %0.2f)' % roc_auc[6])\n",
    "\n",
    "\n",
    "plt.plot([0, 1], [0, 1], color='grey', lw=lw, linestyle='--')\n",
    "plt.xlim([0.0, 1.0])\n",
    "plt.ylim([0.0, 1.0])\n",
    "plt.xlabel('False Positive Rate')\n",
    "plt.ylabel('True Positive Rate')\n",
    "plt.title('Receiver operating characteristic')\n",
    "plt.legend(loc=\"lower right\")\n",
    "plt.savefig(\"ROC\",dpi=160,bbox_inches='tight')\n",
    "plt.show()"
   ]
  },
  {
   "cell_type": "code",
   "execution_count": null,
   "metadata": {},
   "outputs": [],
   "source": []
  },
  {
   "cell_type": "code",
   "execution_count": null,
   "metadata": {},
   "outputs": [],
   "source": []
  },
  {
   "cell_type": "code",
   "execution_count": null,
   "metadata": {},
   "outputs": [],
   "source": []
  },
  {
   "cell_type": "code",
   "execution_count": null,
   "metadata": {},
   "outputs": [],
   "source": []
  },
  {
   "cell_type": "code",
   "execution_count": 14,
   "metadata": {},
   "outputs": [
    {
     "data": {
      "text/html": [
       "<div>\n",
       "<style scoped>\n",
       "    .dataframe tbody tr th:only-of-type {\n",
       "        vertical-align: middle;\n",
       "    }\n",
       "\n",
       "    .dataframe tbody tr th {\n",
       "        vertical-align: top;\n",
       "    }\n",
       "\n",
       "    .dataframe thead th {\n",
       "        text-align: right;\n",
       "    }\n",
       "</style>\n",
       "<table border=\"1\" class=\"dataframe\">\n",
       "  <thead>\n",
       "    <tr style=\"text-align: right;\">\n",
       "      <th></th>\n",
       "      <th>feature</th>\n",
       "      <th>value</th>\n",
       "    </tr>\n",
       "  </thead>\n",
       "  <tbody>\n",
       "    <tr>\n",
       "      <th>0</th>\n",
       "      <td>first_blood</td>\n",
       "      <td>1</td>\n",
       "    </tr>\n",
       "    <tr>\n",
       "      <th>1</th>\n",
       "      <td>first_tower</td>\n",
       "      <td>1</td>\n",
       "    </tr>\n",
       "    <tr>\n",
       "      <th>2</th>\n",
       "      <td>first_inhibitor</td>\n",
       "      <td>2</td>\n",
       "    </tr>\n",
       "    <tr>\n",
       "      <th>3</th>\n",
       "      <td>first_Baron</td>\n",
       "      <td>1</td>\n",
       "    </tr>\n",
       "    <tr>\n",
       "      <th>4</th>\n",
       "      <td>first_Dragon</td>\n",
       "      <td>1</td>\n",
       "    </tr>\n",
       "    <tr>\n",
       "      <th>5</th>\n",
       "      <td>first_RiftHerald</td>\n",
       "      <td>1</td>\n",
       "    </tr>\n",
       "    <tr>\n",
       "      <th>6</th>\n",
       "      <td>t1_tower</td>\n",
       "      <td>10</td>\n",
       "    </tr>\n",
       "    <tr>\n",
       "      <th>7</th>\n",
       "      <td>t1_inhibitor</td>\n",
       "      <td>2</td>\n",
       "    </tr>\n",
       "    <tr>\n",
       "      <th>8</th>\n",
       "      <td>t1_baron</td>\n",
       "      <td>3</td>\n",
       "    </tr>\n",
       "    <tr>\n",
       "      <th>9</th>\n",
       "      <td>t1_dragon</td>\n",
       "      <td>1</td>\n",
       "    </tr>\n",
       "    <tr>\n",
       "      <th>10</th>\n",
       "      <td>t1_riftHeraldKills</td>\n",
       "      <td>1</td>\n",
       "    </tr>\n",
       "    <tr>\n",
       "      <th>11</th>\n",
       "      <td>t2_tower</td>\n",
       "      <td>7</td>\n",
       "    </tr>\n",
       "    <tr>\n",
       "      <th>12</th>\n",
       "      <td>t2_inhibitor</td>\n",
       "      <td>2</td>\n",
       "    </tr>\n",
       "    <tr>\n",
       "      <th>13</th>\n",
       "      <td>t2_baron</td>\n",
       "      <td>1</td>\n",
       "    </tr>\n",
       "    <tr>\n",
       "      <th>14</th>\n",
       "      <td>t2_dragon</td>\n",
       "      <td>1</td>\n",
       "    </tr>\n",
       "    <tr>\n",
       "      <th>15</th>\n",
       "      <td>t2_riftHeraldKills</td>\n",
       "      <td>1</td>\n",
       "    </tr>\n",
       "  </tbody>\n",
       "</table>\n",
       "</div>"
      ],
      "text/plain": [
       "               feature  value\n",
       "0          first_blood      1\n",
       "1          first_tower      1\n",
       "2      first_inhibitor      2\n",
       "3          first_Baron      1\n",
       "4         first_Dragon      1\n",
       "5     first_RiftHerald      1\n",
       "6             t1_tower     10\n",
       "7         t1_inhibitor      2\n",
       "8             t1_baron      3\n",
       "9            t1_dragon      1\n",
       "10  t1_riftHeraldKills      1\n",
       "11            t2_tower      7\n",
       "12        t2_inhibitor      2\n",
       "13            t2_baron      1\n",
       "14           t2_dragon      1\n",
       "15  t2_riftHeraldKills      1"
      ]
     },
     "execution_count": 14,
     "metadata": {},
     "output_type": "execute_result"
    }
   ],
   "source": [
    "predictor={\"feature\":[\"first_blood\",\"first_tower\",\"first_inhibitor\",\"first_Baron\",\"first_Dragon\",\"first_RiftHerald\",\n",
    "\"t1_tower\",\"t1_inhibitor\",\"t1_baron\",\"t1_dragon\",\"t1_riftHeraldKills\", \"t2_tower\",\"t2_inhibitor\",\"t2_baron\",\"t2_dragon\",\"t2_riftHeraldKills\"],\n",
    "         \"value\":[1,1,2,1,1,1,10,2,3,1,1,7,2,1,1,1]}\n",
    "scena=pd.DataFrame(predictor)\n",
    "scena\n",
    "\n"
   ]
  },
  {
   "cell_type": "code",
   "execution_count": 15,
   "metadata": {},
   "outputs": [
    {
     "name": "stdout",
     "output_type": "stream",
     "text": [
      "winner is : [1]\n",
      "first team win probability is %  [99.0893219771051] \n",
      "second team win probability is %: [0.9106780228949072]\n"
     ]
    }
   ],
   "source": [
    "x1=[[1,1,2,1,1,1,10,2,3,1,1,7,2,1,1,1]]\n",
    "c= lr.predict_proba(x1).reshape(-1,1)\n",
    "print(\"winner is :\" , lr.predict(x1) )\n",
    "print(\"first team win probability is % \", list(c[0]*100),\n",
    "      \"\\nsecond team win probability is %:\",list(c[1]*100))"
   ]
  },
  {
   "cell_type": "code",
   "execution_count": 17,
   "metadata": {},
   "outputs": [
    {
     "name": "stdout",
     "output_type": "stream",
     "text": [
      "winner is : [1]\n",
      "first team win probability is %  [51.44746566225702] \n",
      "second team win probability is %: [48.55253433774298]\n"
     ]
    }
   ],
   "source": [
    "x1=[[0,0,0,0,0,0,0,0,0,0,0,0,0,0,0,0]]\n",
    "c= lr.predict_proba(x1).reshape(-1,1)\n",
    "print(\"winner is :\" , lr.predict(x1) )\n",
    "print(\"first team win probability is % \", list(c[0]*100),\n",
    "      \"\\nsecond team win probability is %:\",list(c[1]*100))"
   ]
  },
  {
   "cell_type": "code",
   "execution_count": null,
   "metadata": {},
   "outputs": [],
   "source": []
  }
 ],
 "metadata": {
  "kernelspec": {
   "display_name": "Python 3",
   "language": "python",
   "name": "python3"
  },
  "language_info": {
   "codemirror_mode": {
    "name": "ipython",
    "version": 3
   },
   "file_extension": ".py",
   "mimetype": "text/x-python",
   "name": "python",
   "nbconvert_exporter": "python",
   "pygments_lexer": "ipython3",
   "version": "3.8.8"
  }
 },
 "nbformat": 4,
 "nbformat_minor": 4
}
